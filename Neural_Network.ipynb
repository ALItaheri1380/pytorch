{
 "cells": [
  {
   "cell_type": "code",
   "execution_count": 1,
   "metadata": {},
   "outputs": [],
   "source": [
    "import torch\n",
    "import torchvision\n",
    "from torch import nn\n",
    "from torchvision.transforms import transforms\n",
    "import matplotlib.pyplot as plt"
   ]
  },
  {
   "cell_type": "markdown",
   "metadata": {},
   "source": [
    "### Binary"
   ]
  },
  {
   "cell_type": "code",
   "execution_count": 2,
   "metadata": {},
   "outputs": [],
   "source": [
    "class binary_nn(nn.Module):\n",
    "    def __init__(self, inplen, hidlen):\n",
    "        super(binary_nn, self).__init__()\n",
    "        self.linear1 = nn.Linear(inplen, hidlen) \n",
    "        self.relu = nn.ReLU()\n",
    "        self.linear2 = nn.Linear(hidlen, 1)  \n",
    "        self.sigmoid = nn.Sigmoid()\n",
    "    \n",
    "    def forward(self, x):\n",
    "        out1 = self.linear1(x)\n",
    "        out2 = self.relu(out1)\n",
    "        out3 = self.linear2(out2)\n",
    "        y_pred = torch.sigmoid(out3)\n",
    "        return y_pred\n",
    "\n",
    "model = binary_nn(inplen=28*28, hidlen=5)\n",
    "loss = nn.BCELoss()"
   ]
  },
  {
   "cell_type": "code",
   "execution_count": 3,
   "metadata": {},
   "outputs": [],
   "source": [
    "class Binary_nn(nn.Module):\n",
    "    def __init__(self , inp_len , hid_len):\n",
    "        super(Binary_nn , self).__init__()\n",
    "        self.linear1 = nn.Linear(in_features=inp_len , out_features=hid_len)\n",
    "        self.tanh = nn.Tanh()\n",
    "        self.linear2 = nn.Linear(in_features=hid_len , out_features=1)\n",
    "        self.sigmoid = nn.Sigmoid()\n",
    "\n",
    "    def forward(self , x):\n",
    "        out1  = self.linear1(x)\n",
    "        out2  = self.tanh(out1)\n",
    "        out3  = self.linear2(out2)\n",
    "        yprd = self.sigmoid(out3)\n",
    "        return yprd"
   ]
  },
  {
   "cell_type": "markdown",
   "metadata": {},
   "source": [
    "## Multiclass problem"
   ]
  },
  {
   "cell_type": "code",
   "execution_count": 4,
   "metadata": {},
   "outputs": [],
   "source": [
    "class Multiclass_nn(nn.Module):\n",
    "    def __init__(self, inplen, hidlen, outlen):\n",
    "        super(Multiclass_nn, self).__init__()\n",
    "        self.linear1 = nn.Linear(inplen, hidlen) \n",
    "        self.relu = nn.ReLU()\n",
    "        self.linear2 = nn.Linear(hidlen, outlen)  \n",
    "    \n",
    "    def forward(self, x):\n",
    "        out = self.linear1(x)\n",
    "        out = self.relu(out)\n",
    "        out = self.linear2(out)\n",
    "        return out\n",
    "    \n",
    "model = Multiclass_nn(inplen=28*28, hidlen=5, outlen=3)\n",
    "loss = nn.CrossEntropyLoss()  "
   ]
  },
  {
   "cell_type": "markdown",
   "metadata": {},
   "source": [
    "### Multi-layer neural network example"
   ]
  },
  {
   "cell_type": "markdown",
   "metadata": {},
   "source": [
    "parameters"
   ]
  },
  {
   "cell_type": "code",
   "execution_count": 5,
   "metadata": {},
   "outputs": [],
   "source": [
    "inp_len = 28 * 28\n",
    "hid_len = 600\n",
    "alpha = 0.009\n",
    "num = 4\n",
    "batch_len = 100\n",
    "out_len = 10\n",
    "total_number = 0\n",
    "correct_number = 0"
   ]
  },
  {
   "cell_type": "code",
   "execution_count": 6,
   "metadata": {},
   "outputs": [],
   "source": [
    "trainDataset = torchvision.datasets.MNIST(root='./data', train=True, transform=transforms.ToTensor(),  download=True)\n",
    "testDataset = torchvision.datasets.MNIST(root='./data', train=False, transform=transforms.ToTensor())"
   ]
  },
  {
   "cell_type": "code",
   "execution_count": 7,
   "metadata": {},
   "outputs": [],
   "source": [
    "train_loader = torch.utils.data.DataLoader(dataset=trainDataset , shuffle=True , batch_size=batch_len)\n",
    "test_loader  = torch.utils.data.DataLoader(dataset=testDataset , shuffle=False , batch_size=batch_len)"
   ]
  },
  {
   "cell_type": "code",
   "execution_count": 8,
   "metadata": {},
   "outputs": [
    {
     "data": {
      "text/plain": [
       "(600, 100)"
      ]
     },
     "execution_count": 8,
     "metadata": {},
     "output_type": "execute_result"
    }
   ],
   "source": [
    "len(train_loader), len(test_loader)"
   ]
  },
  {
   "cell_type": "code",
   "execution_count": 9,
   "metadata": {},
   "outputs": [
    {
     "data": {
      "text/plain": [
       "(torch.Size([100, 1, 28, 28]), torch.Size([100]))"
      ]
     },
     "execution_count": 9,
     "metadata": {},
     "output_type": "execute_result"
    }
   ],
   "source": [
    "examples = iter(test_loader)\n",
    "example_data, example_targets = next(examples)\n",
    "example_data.shape , example_targets.shape"
   ]
  },
  {
   "cell_type": "code",
   "execution_count": 10,
   "metadata": {},
   "outputs": [
    {
     "data": {
      "image/png": "[encoded data removed]",
      "text/plain": [
       "<Figure size 432x288 with 1 Axes>"
      ]
     },
     "metadata": {
      "needs_background": "light"
     },
     "output_type": "display_data"
    },
    {
     "data": {
      "image/png": "[encoded data removed]",
      "text/plain": [
       "<Figure size 432x288 with 1 Axes>"
      ]
     },
     "metadata": {
      "needs_background": "light"
     },
     "output_type": "display_data"
    },
    {
     "data": {
      "image/png": "[encoded data removed]",
      "text/plain": [
       "<Figure size 432x288 with 1 Axes>"
      ]
     },
     "metadata": {
      "needs_background": "light"
     },
     "output_type": "display_data"
    }
   ],
   "source": [
    "for i in range(3):\n",
    "    plt.imshow(example_data[i][0] , cmap=\"gray\")\n",
    "    plt.show()"
   ]
  },
  {
   "cell_type": "code",
   "execution_count": 11,
   "metadata": {},
   "outputs": [],
   "source": [
    "class Multiclass_nn(nn.Module):\n",
    "    def __init__(self, inp_len, hid_len, out_len):\n",
    "        super(Multiclass_nn, self).__init__()\n",
    "        self.linear1 = nn.Linear(inp_len, hid_len) \n",
    "        self.relu = nn.ReLU()\n",
    "        self.linear2 = nn.Linear(hid_len, out_len)  \n",
    "    \n",
    "    def forward(self, x):\n",
    "        out = self.linear1(x)\n",
    "        out = self.relu(out)\n",
    "        out = self.linear2(out)\n",
    "        return out"
   ]
  },
  {
   "cell_type": "code",
   "execution_count": 12,
   "metadata": {},
   "outputs": [],
   "source": [
    "loss = nn.CrossEntropyLoss()\n",
    "Sample = Multiclass_nn(inp_len=inp_len , hid_len=hid_len , out_len=out_len)\n",
    "optim  = torch.optim.Adam(Sample.parameters() , lr = alpha)"
   ]
  },
  {
   "cell_type": "code",
   "execution_count": 13,
   "metadata": {},
   "outputs": [
    {
     "name": "stdout",
     "output_type": "stream",
     "text": [
      "1 .  Loss =  2.2977991104125977\n",
      "101 .  Loss =  0.22120408713817596\n",
      "201 .  Loss =  0.1645980328321457\n",
      "301 .  Loss =  0.23784953355789185\n",
      "401 .  Loss =  0.06243738532066345\n",
      "501 .  Loss =  0.09986796975135803\n",
      "601 .  Loss =  0.07301396131515503\n",
      "701 .  Loss =  0.21245194971561432\n",
      "801 .  Loss =  0.08249115943908691\n",
      "901 .  Loss =  0.03590553626418114\n",
      "1001 .  Loss =  0.06539831310510635\n",
      "1101 .  Loss =  0.028175080195069313\n",
      "1201 .  Loss =  0.05795126035809517\n",
      "1301 .  Loss =  0.13942435383796692\n",
      "1401 .  Loss =  0.13627798855304718\n",
      "1501 .  Loss =  0.022473005577921867\n",
      "1601 .  Loss =  0.05909555032849312\n",
      "1701 .  Loss =  0.05919550359249115\n",
      "1801 .  Loss =  0.058805350214242935\n",
      "1901 .  Loss =  0.07961157709360123\n",
      "2001 .  Loss =  0.0518152192234993\n",
      "2101 .  Loss =  0.040796909481287\n",
      "2201 .  Loss =  0.028696691617369652\n",
      "2301 .  Loss =  0.046891022473573685\n"
     ]
    }
   ],
   "source": [
    "cnt = 0\n",
    "for epoch in range(num):\n",
    "    for index , (img , label) in enumerate(train_loader):\n",
    "        img = img.reshape(-1 , 28*28)\n",
    "        \n",
    "        out_prd = Sample(img)\n",
    "        ls = loss(out_prd , label)\n",
    "        ls.backward()\n",
    "\n",
    "        optim.step()\n",
    "        optim.zero_grad()\n",
    "\n",
    "        cnt = cnt + 1\n",
    "        if (index % 100 == 0):\n",
    "            print(cnt ,'. ' , \"Loss = \" , ls.item())"
   ]
  },
  {
   "cell_type": "code",
   "execution_count": 14,
   "metadata": {},
   "outputs": [
    {
     "name": "stdout",
     "output_type": "stream",
     "text": [
      "Accuracy of the neural network is =  97.16 %\n"
     ]
    }
   ],
   "source": [
    "with torch.no_grad():\n",
    "    for img, label in test_loader:\n",
    "        img = img.reshape(-1, 28*28)\n",
    "        prd = Sample(img)\n",
    "    \n",
    "        _, maxprd = torch.max(prd.data, 1)\n",
    "        total_number += label.size(0)\n",
    "        correct_number += (maxprd == label).sum().item()\n",
    "\n",
    "    accuracy = 100* (correct_number / total_number)\n",
    "    print(\"Accuracy of the neural network is = \" , accuracy,\"%\")"
   ]
  }
 ],
 "metadata": {
  "kernelspec": {
   "display_name": "Python 3",
   "language": "python",
   "name": "python3"
  },
  "language_info": {
   "codemirror_mode": {
    "name": "ipython",
    "version": 3
   },
   "file_extension": ".py",
   "mimetype": "text/x-python",
   "name": "python",
   "nbconvert_exporter": "python",
   "pygments_lexer": "ipython3",
   "version": "3.10.0"
  },
  "orig_nbformat": 4
 },
 "nbformat": 4,
 "nbformat_minor": 2
}
