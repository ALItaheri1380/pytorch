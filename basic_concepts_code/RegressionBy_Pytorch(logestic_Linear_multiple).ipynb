{
 "cells": [
  {
   "cell_type": "code",
   "execution_count": 1,
   "metadata": {},
   "outputs": [],
   "source": [
    "import torch\n",
    "import numpy as np\n",
    "from torch import nn\n",
    "from sklearn import datasets\n",
    "from sklearn.preprocessing import StandardScaler\n",
    "from sklearn.model_selection import train_test_split\n",
    "import matplotlib.pyplot as plt"
   ]
  },
  {
   "cell_type": "markdown",
   "metadata": {},
   "source": [
    "### Mse with numpy and pytorch "
   ]
  },
  {
   "cell_type": "markdown",
   "metadata": {},
   "source": [
    "Numpy:"
   ]
  },
  {
   "cell_type": "code",
   "execution_count": 2,
   "metadata": {},
   "outputs": [],
   "source": [
    "X = np.array([1,2,3,4] , dtype=np.float32)\n",
    "Y = np.array([2,3.8,6,8.2] , dtype=np.float32)\n",
    "W = 0"
   ]
  },
  {
   "cell_type": "code",
   "execution_count": 3,
   "metadata": {},
   "outputs": [],
   "source": [
    "def forward(a):\n",
    "    return (a*W)"
   ]
  },
  {
   "cell_type": "code",
   "execution_count": 4,
   "metadata": {},
   "outputs": [],
   "source": [
    "def Loss(y , yprd):\n",
    "    return ((y - yprd)**2).mean()"
   ]
  },
  {
   "cell_type": "markdown",
   "metadata": {},
   "source": [
    "Loss func is : 1/N (y-xw)^2 --> d f / d w = 1/N * 2x (y-xw(Yprd))"
   ]
  },
  {
   "cell_type": "code",
   "execution_count": 5,
   "metadata": {},
   "outputs": [],
   "source": [
    "#d f / d w:\n",
    "def Grad(y , yprd , x):\n",
    "    return ((2*x) @ (yprd - y)).mean()"
   ]
  },
  {
   "cell_type": "code",
   "execution_count": 6,
   "metadata": {},
   "outputs": [
    {
     "name": "stdout",
     "output_type": "stream",
     "text": [
      "Prediction of f(5) before processing = 0.00\n"
     ]
    }
   ],
   "source": [
    "print(f'Prediction of f(5) before processing = {forward(10):.2f}')"
   ]
  },
  {
   "cell_type": "code",
   "execution_count": 7,
   "metadata": {},
   "outputs": [
    {
     "name": "stdout",
     "output_type": "stream",
     "text": [
      "2 .  W =  1.691199951171875  ,  loss = 4.8828802109\n",
      "3 .  W =  1.88447998046875  ,  loss = 0.7969411016\n",
      "4 .  W =  1.9617919635772705  ,  loss = 0.1431904584\n",
      "5 .  W =  1.9927167510986328  ,  loss = 0.0385904610\n",
      "6 .  W =  2.005086660385132  ,  loss = 0.0218544640\n",
      "7 .  W =  2.0100346612930298  ,  loss = 0.0191767104\n",
      "8 .  W =  2.0120139074325563  ,  loss = 0.0187482703\n",
      "9 .  W =  2.012805542945862  ,  loss = 0.0186797138\n",
      "10 .  W =  2.013122248649597  ,  loss = 0.0186687484\n",
      "11 .  W =  2.0132488536834714  ,  loss = 0.0186669864\n",
      "12 .  W =  2.0132994842529293  ,  loss = 0.0186667126\n",
      "13 .  W =  2.0133197879791256  ,  loss = 0.0186666660\n",
      "14 .  W =  2.0133279466629026  ,  loss = 0.0186666548\n",
      "15 .  W =  2.013331212997436  ,  loss = 0.0186666623\n",
      "16 .  W =  2.013332505226135  ,  loss = 0.0186666548\n",
      "17 .  W =  2.013332910537719  ,  loss = 0.0186666623\n",
      "18 .  W =  2.013333187103271  ,  loss = 0.0186666586\n",
      "19 .  W =  2.0133333349227898  ,  loss = 0.0186666530\n",
      "20 .  W =  2.013333325386047  ,  loss = 0.0186666586\n"
     ]
    }
   ],
   "source": [
    "alpha=0.01;num=20\n",
    "for i in range(num):\n",
    "\n",
    "    yprd = forward(X)\n",
    "    grd = Grad(Y , yprd , X)\n",
    "    W -= (alpha * grd)\n",
    "    if(i):\n",
    "        print(i+1,'. ','W = ',W,' , ', f'loss = {Loss(Y , yprd):.10f}')"
   ]
  },
  {
   "cell_type": "code",
   "execution_count": 8,
   "metadata": {},
   "outputs": [
    {
     "name": "stdout",
     "output_type": "stream",
     "text": [
      "Prediction of f(5) After processing = 20.13\n"
     ]
    }
   ],
   "source": [
    "print(f'Prediction of f(5) After processing = {forward(10):.2f}')       "
   ]
  },
  {
   "cell_type": "markdown",
   "metadata": {},
   "source": [
    "# Pytorch version 1"
   ]
  },
  {
   "cell_type": "code",
   "execution_count": 9,
   "metadata": {},
   "outputs": [
    {
     "data": {
      "text/plain": [
       "torch.float32"
      ]
     },
     "execution_count": 9,
     "metadata": {},
     "output_type": "execute_result"
    }
   ],
   "source": [
    "X = torch.tensor([1,2,3,4] , dtype=torch.float32)\n",
    "Y = torch.tensor([2,3.8,6,8.2] , dtype=torch.float32)\n",
    "W = torch.tensor(0.0 , dtype=torch.float32 , requires_grad=True)\n",
    "X.dtype"
   ]
  },
  {
   "cell_type": "code",
   "execution_count": 10,
   "metadata": {},
   "outputs": [],
   "source": [
    "def Forward(a):\n",
    "    return a * W"
   ]
  },
  {
   "cell_type": "code",
   "execution_count": 11,
   "metadata": {},
   "outputs": [],
   "source": [
    "def loss(y , yprd):\n",
    "    return ((y - yprd)**2).mean()"
   ]
  },
  {
   "cell_type": "code",
   "execution_count": 12,
   "metadata": {},
   "outputs": [
    {
     "name": "stdout",
     "output_type": "stream",
     "text": [
      "Prediction of f(5) before processing = 0.00\n"
     ]
    }
   ],
   "source": [
    "print(f'Prediction of f(5) before processing = {Forward(10):.2f}')"
   ]
  },
  {
   "cell_type": "code",
   "execution_count": 13,
   "metadata": {},
   "outputs": [
    {
     "name": "stdout",
     "output_type": "stream",
     "text": [
      "1 .  W =  0.302  ,  loss = 30.4199981689\n",
      "6 .  W =  1.254  ,  loss = 6.0039119720\n",
      "11 .  W =  1.676  ,  loss = 1.1970084906\n",
      "16 .  W =  1.864  ,  loss = 0.2506518364\n",
      "21 .  W =  1.947  ,  loss = 0.0643384159\n",
      "26 .  W =  1.984  ,  loss = 0.0276582260\n",
      "31 .  W =  2.000  ,  loss = 0.0204368681\n",
      "36 .  W =  2.008  ,  loss = 0.0190151557\n",
      "41 .  W =  2.011  ,  loss = 0.0187352542\n",
      "46 .  W =  2.012  ,  loss = 0.0186801609\n",
      "51 .  W =  2.013  ,  loss = 0.0186693110\n",
      "56 .  W =  2.013  ,  loss = 0.0186671820\n",
      "61 .  W =  2.013  ,  loss = 0.0186667629\n",
      "66 .  W =  2.013  ,  loss = 0.0186666772\n",
      "71 .  W =  2.013  ,  loss = 0.0186666623\n",
      "76 .  W =  2.013  ,  loss = 0.0186666641\n",
      "81 .  W =  2.013  ,  loss = 0.0186666623\n",
      "86 .  W =  2.013  ,  loss = 0.0186666548\n",
      "91 .  W =  2.013  ,  loss = 0.0186666586\n",
      "96 .  W =  2.013  ,  loss = 0.0186666623\n",
      "101 .  W =  2.013  ,  loss = 0.0186666623\n"
     ]
    }
   ],
   "source": [
    "alpha = 0.01 ; num = 101\n",
    "\n",
    "for i in range(num):\n",
    "    \n",
    "    yprd = Forward(X)\n",
    "    ls = loss(Y , yprd)\n",
    "\n",
    "    ls.backward()\n",
    "\n",
    "    with torch.no_grad():\n",
    "        W -= (alpha * W.grad)\n",
    "\n",
    "    W.grad.zero_()\n",
    "\n",
    "    if(not i%5):\n",
    "        print(i + 1, '. ', 'W = ', f'{W:.3f}', ' , ', f'loss = {loss(Y, yprd):.10f}')"
   ]
  },
  {
   "cell_type": "code",
   "execution_count": 14,
   "metadata": {},
   "outputs": [
    {
     "name": "stdout",
     "output_type": "stream",
     "text": [
      "Prediction of f(5) After processing = 20.13\n"
     ]
    }
   ],
   "source": [
    "print(f'Prediction of f(5) After processing = {Forward(10):.2f}')   "
   ]
  },
  {
   "cell_type": "markdown",
   "metadata": {},
   "source": [
    "## version 2"
   ]
  },
  {
   "cell_type": "code",
   "execution_count": 15,
   "metadata": {},
   "outputs": [
    {
     "data": {
      "text/plain": [
       "torch.float32"
      ]
     },
     "execution_count": 15,
     "metadata": {},
     "output_type": "execute_result"
    }
   ],
   "source": [
    "X = torch.tensor([1,2,3,4] , dtype=torch.float32)\n",
    "Y = torch.tensor([2,3.8,6,8.2] , dtype=torch.float32)\n",
    "W = torch.tensor(0.0 , dtype=torch.float32 , requires_grad=True)\n",
    "X.dtype"
   ]
  },
  {
   "cell_type": "code",
   "execution_count": 16,
   "metadata": {},
   "outputs": [],
   "source": [
    "def forwardn(a):\n",
    "    return a*W"
   ]
  },
  {
   "cell_type": "code",
   "execution_count": 17,
   "metadata": {},
   "outputs": [],
   "source": [
    "alpha = 0.01\n",
    "lossn = nn.MSELoss()\n",
    "optim = torch.optim.SGD([W] , lr=0.01)"
   ]
  },
  {
   "cell_type": "code",
   "execution_count": 18,
   "metadata": {},
   "outputs": [
    {
     "name": "stdout",
     "output_type": "stream",
     "text": [
      "Prediction of f(5) before processing = 0.00\n"
     ]
    }
   ],
   "source": [
    "print(f'Prediction of f(5) before processing = {forwardn(10):.2f}')"
   ]
  },
  {
   "cell_type": "code",
   "execution_count": 19,
   "metadata": {},
   "outputs": [
    {
     "name": "stdout",
     "output_type": "stream",
     "text": [
      "1 .  W =  0.302  ,  loss = 30.4199981689\n",
      "6 .  W =  1.254  ,  loss = 6.0039119720\n",
      "11 .  W =  1.676  ,  loss = 1.1970084906\n",
      "16 .  W =  1.864  ,  loss = 0.2506518364\n",
      "21 .  W =  1.947  ,  loss = 0.0643384159\n",
      "26 .  W =  1.984  ,  loss = 0.0276582260\n",
      "31 .  W =  2.000  ,  loss = 0.0204368681\n",
      "36 .  W =  2.008  ,  loss = 0.0190151557\n",
      "41 .  W =  2.011  ,  loss = 0.0187352542\n",
      "46 .  W =  2.012  ,  loss = 0.0186801609\n",
      "51 .  W =  2.013  ,  loss = 0.0186693110\n",
      "56 .  W =  2.013  ,  loss = 0.0186671820\n",
      "61 .  W =  2.013  ,  loss = 0.0186667629\n",
      "66 .  W =  2.013  ,  loss = 0.0186666772\n",
      "71 .  W =  2.013  ,  loss = 0.0186666623\n",
      "76 .  W =  2.013  ,  loss = 0.0186666641\n",
      "81 .  W =  2.013  ,  loss = 0.0186666623\n",
      "86 .  W =  2.013  ,  loss = 0.0186666548\n",
      "91 .  W =  2.013  ,  loss = 0.0186666586\n",
      "96 .  W =  2.013  ,  loss = 0.0186666623\n"
     ]
    }
   ],
   "source": [
    "num = 100\n",
    "\n",
    "for i in range(num):\n",
    "\n",
    "    yprd = forwardn(X)\n",
    "    ls = lossn(Y , yprd)\n",
    "    ls.backward()\n",
    "\n",
    "    optim.step()\n",
    "    optim.zero_grad()\n",
    "    \n",
    "    if(not i%5):\n",
    "        print(i + 1, '. ', 'W = ', f'{W:.3f}', ' , ', f'loss = {lossn(Y, yprd):.10f}')"
   ]
  },
  {
   "cell_type": "code",
   "execution_count": 20,
   "metadata": {},
   "outputs": [
    {
     "name": "stdout",
     "output_type": "stream",
     "text": [
      "Prediction of f(5) After processing = 20.13\n"
     ]
    }
   ],
   "source": [
    "print(f'Prediction of f(5) After processing = {forwardn(10):.2f}')   "
   ]
  },
  {
   "cell_type": "markdown",
   "metadata": {},
   "source": [
    "## version 3"
   ]
  },
  {
   "cell_type": "code",
   "execution_count": 21,
   "metadata": {},
   "outputs": [],
   "source": [
    "X = torch.tensor([[1],[2],[3],[4]] , dtype=torch.float32)\n",
    "Y = torch.tensor([[2],[3.8],[6],[8.2]] , dtype=torch.float32)"
   ]
  },
  {
   "cell_type": "code",
   "execution_count": 22,
   "metadata": {},
   "outputs": [],
   "source": [
    "X_test = torch.tensor([10], dtype=torch.float32)"
   ]
  },
  {
   "cell_type": "code",
   "execution_count": 23,
   "metadata": {},
   "outputs": [],
   "source": [
    "_ , NumFeatures = X.shape"
   ]
  },
  {
   "cell_type": "code",
   "execution_count": 24,
   "metadata": {},
   "outputs": [],
   "source": [
    "alpha = 0.01\n",
    "lossn2 = nn.MSELoss()\n",
    "Model  = nn.Linear(in_features=NumFeatures , out_features=NumFeatures)\n",
    "optim  = torch.optim.SGD(Model.parameters() , alpha) "
   ]
  },
  {
   "cell_type": "code",
   "execution_count": 25,
   "metadata": {},
   "outputs": [
    {
     "name": "stdout",
     "output_type": "stream",
     "text": [
      "Prediction of f(5) before processing = 0.24\n"
     ]
    }
   ],
   "source": [
    "print(f'Prediction of f(5) before processing = {Model(X_test).item():.2f}')"
   ]
  },
  {
   "cell_type": "code",
   "execution_count": 26,
   "metadata": {},
   "outputs": [
    {
     "name": "stdout",
     "output_type": "stream",
     "text": [
      "1 .  W =  0.376  ,  loss = 32.5171127319\n",
      "16 .  W =  1.837  ,  loss = 0.1766270995\n",
      "31 .  W =  1.937  ,  loss = 0.0395155624\n",
      "46 .  W =  1.949  ,  loss = 0.0366368964\n",
      "61 .  W =  1.955  ,  loss = 0.0345153771\n",
      "76 .  W =  1.961  ,  loss = 0.0325784534\n",
      "91 .  W =  1.966  ,  loss = 0.0308081917\n",
      "106 .  W =  1.971  ,  loss = 0.0291902348\n",
      "121 .  W =  1.976  ,  loss = 0.0277114362\n",
      "136 .  W =  1.981  ,  loss = 0.0263598971\n",
      "151 .  W =  1.985  ,  loss = 0.0251246113\n",
      "166 .  W =  1.989  ,  loss = 0.0239954665\n",
      "181 .  W =  1.993  ,  loss = 0.0229635611\n",
      "196 .  W =  1.997  ,  loss = 0.0220204648\n",
      "211 .  W =  2.001  ,  loss = 0.0211584494\n",
      "226 .  W =  2.004  ,  loss = 0.0203705914\n",
      "241 .  W =  2.007  ,  loss = 0.0196505282\n",
      "256 .  W =  2.011  ,  loss = 0.0189923979\n",
      "271 .  W =  2.014  ,  loss = 0.0183908790\n",
      "286 .  W =  2.017  ,  loss = 0.0178410430\n"
     ]
    }
   ],
   "source": [
    "num = 300\n",
    "\n",
    "for i in range(num):\n",
    "\n",
    "    yprd = Model(X)\n",
    "\n",
    "    ls = lossn2(Y , yprd)\n",
    "    ls.backward()\n",
    "\n",
    "    optim.step()\n",
    "    optim.zero_grad()\n",
    "\n",
    "    if(not i%15):\n",
    "        [w , _] = Model.parameters()\n",
    "\n",
    "        print(i + 1, '. ', 'W = ', f'{w[0][0].item():.3f}', ' , ', f'loss = {lossn2(Y, yprd):.10f}')"
   ]
  },
  {
   "cell_type": "code",
   "execution_count": 27,
   "metadata": {},
   "outputs": [
    {
     "name": "stdout",
     "output_type": "stream",
     "text": [
      "Prediction of f(5) After processing = 20.17\n"
     ]
    }
   ],
   "source": [
    "print(f'Prediction of f(5) After processing = {Model(X_test).item():.2f}')"
   ]
  },
  {
   "cell_type": "markdown",
   "metadata": {},
   "source": [
    "## Using Dataset for linear regression"
   ]
  },
  {
   "cell_type": "code",
   "execution_count": 28,
   "metadata": {},
   "outputs": [],
   "source": [
    "x_np , y_np = datasets.make_regression(n_samples=100, n_features=1 , noise=5)"
   ]
  },
  {
   "cell_type": "code",
   "execution_count": 29,
   "metadata": {},
   "outputs": [],
   "source": [
    "X = torch.from_numpy(x_np.astype(np.float32))\n",
    "Y = torch.from_numpy(y_np.astype(np.float32))"
   ]
  },
  {
   "cell_type": "code",
   "execution_count": 30,
   "metadata": {},
   "outputs": [
    {
     "data": {
      "text/plain": [
       "tensor([[ -7.1255],\n",
       "        [ -0.0947],\n",
       "        [ 13.0565],\n",
       "        [ 16.5497],\n",
       "        [  0.1158],\n",
       "        [-24.4478],\n",
       "        [ 15.3080],\n",
       "        [ -1.4040],\n",
       "        [-21.5126],\n",
       "        [-35.9431],\n",
       "        [ -1.0182],\n",
       "        [  7.6681],\n",
       "        [  8.5963],\n",
       "        [ 21.2318],\n",
       "        [ 14.7671],\n",
       "        [-31.8011],\n",
       "        [ -1.6111],\n",
       "        [-10.3101],\n",
       "        [ 28.8077],\n",
       "        [ 22.1924]])"
      ]
     },
     "execution_count": 30,
     "metadata": {},
     "output_type": "execute_result"
    }
   ],
   "source": [
    "Y = Y.view(Y.shape[0] , 1)\n",
    "Y[:20 ,]"
   ]
  },
  {
   "cell_type": "code",
   "execution_count": 31,
   "metadata": {},
   "outputs": [
    {
     "data": {
      "text/plain": [
       "(torch.Size([100, 1]), torch.Size([100, 1]))"
      ]
     },
     "execution_count": 31,
     "metadata": {},
     "output_type": "execute_result"
    }
   ],
   "source": [
    "Y.shape , X.shape"
   ]
  },
  {
   "cell_type": "code",
   "execution_count": 32,
   "metadata": {},
   "outputs": [
    {
     "data": {
      "text/plain": [
       "1"
      ]
     },
     "execution_count": 32,
     "metadata": {},
     "output_type": "execute_result"
    }
   ],
   "source": [
    "_ , NumFeatures = X.shape\n",
    "NumFeatures"
   ]
  },
  {
   "cell_type": "code",
   "execution_count": 33,
   "metadata": {},
   "outputs": [],
   "source": [
    "Alpha = 0.01\n",
    "nLoos = nn.MSELoss()\n",
    "model = nn.Linear(in_features=NumFeatures , out_features=1)\n",
    "optim = torch.optim.SGD(model.parameters() , Alpha)"
   ]
  },
  {
   "cell_type": "code",
   "execution_count": 34,
   "metadata": {},
   "outputs": [
    {
     "name": "stdout",
     "output_type": "stream",
     "text": [
      "0 .  loss =  loss = 643.9822998047\n",
      "5 .  loss =  loss = 541.1375122070\n",
      "10 .  loss =  loss = 455.3702087402\n",
      "15 .  loss =  loss = 383.8334045410\n",
      "20 .  loss =  loss = 324.1568908691\n",
      "25 .  loss =  loss = 274.3668823242\n",
      "30 .  loss =  loss = 232.8194122314\n",
      "35 .  loss =  loss = 198.1449279785\n",
      "40 .  loss =  loss = 169.2024383545\n",
      "45 .  loss =  loss = 145.0409851074\n",
      "50 .  loss =  loss = 124.8680725098\n",
      "55 .  loss =  loss = 108.0230484009\n",
      "60 .  loss =  loss = 93.9551391602\n",
      "65 .  loss =  loss = 82.2049026489\n",
      "70 .  loss =  loss = 72.3893432617\n",
      "75 .  loss =  loss = 64.1889190674\n",
      "80 .  loss =  loss = 57.3370552063\n",
      "85 .  loss =  loss = 51.6112899780\n",
      "90 .  loss =  loss = 46.8260040283\n",
      "95 .  loss =  loss = 42.8262557983\n",
      "100 .  loss =  loss = 39.4827766418\n",
      "105 .  loss =  loss = 36.6875648499\n",
      "110 .  loss =  loss = 34.3504600525\n",
      "115 .  loss =  loss = 32.3962135315\n"
     ]
    }
   ],
   "source": [
    "num = 120\n",
    "\n",
    "for epoch in range(num):\n",
    "    yprd = model(X)\n",
    "    \n",
    "    ls = nLoos(Y , yprd)\n",
    "    ls.backward()\n",
    "    optim.step()\n",
    "    optim.zero_grad()\n",
    "\n",
    "    if not epoch % 5:\n",
    "        print(epoch,'. ' , \"loss = \" , f'loss = {nLoos(Y, yprd):.10f}')"
   ]
  },
  {
   "cell_type": "code",
   "execution_count": 35,
   "metadata": {},
   "outputs": [
    {
     "data": {
      "image/png": "[encoded data removed]",
      "text/plain": [
       "<Figure size 432x288 with 1 Axes>"
      ]
     },
     "metadata": {
      "needs_background": "light"
     },
     "output_type": "display_data"
    }
   ],
   "source": [
    "predicted = model(X).detach().numpy()\n",
    "\n",
    "plt.plot(x_np, y_np, 'ro')\n",
    "plt.plot(x_np, predicted, 'b')\n",
    "plt.show()"
   ]
  },
  {
   "cell_type": "markdown",
   "metadata": {},
   "source": [
    "# Multiple Linear Regression"
   ]
  },
  {
   "cell_type": "code",
   "execution_count": 36,
   "metadata": {},
   "outputs": [],
   "source": [
    "x_np, y_np = datasets.make_regression(n_samples=100, n_features=3, noise=5)\n",
    "X = torch.from_numpy(x_np.astype(np.float32))\n",
    "Y = torch.from_numpy(y_np.astype(np.float32))"
   ]
  },
  {
   "cell_type": "code",
   "execution_count": 37,
   "metadata": {},
   "outputs": [],
   "source": [
    "Y = Y.view(100 , 1)  \n",
    "X = X.view(100 , 3)"
   ]
  },
  {
   "cell_type": "code",
   "execution_count": 38,
   "metadata": {},
   "outputs": [],
   "source": [
    "Alpha = 0.01\n",
    "nLoss = nn.MSELoss()\n",
    "model = nn.Linear(in_features=3, out_features=1)\n",
    "optimizer = torch.optim.SGD(model.parameters(), lr=Alpha)"
   ]
  },
  {
   "cell_type": "code",
   "execution_count": 39,
   "metadata": {},
   "outputs": [
    {
     "name": "stdout",
     "output_type": "stream",
     "text": [
      "Epoch 0: loss = 2941.582763671875000\n",
      "Epoch 10: loss = 1850.054321289062500\n",
      "Epoch 20: loss = 1183.081054687500000\n",
      "Epoch 30: loss = 770.405456542968750\n",
      "Epoch 40: loss = 511.623870849609375\n",
      "Epoch 50: loss = 347.052642822265625\n",
      "Epoch 60: loss = 240.885757446289062\n",
      "Epoch 70: loss = 171.415969848632812\n",
      "Epoch 80: loss = 125.329879760742188\n",
      "Epoch 90: loss = 94.357887268066406\n",
      "Epoch 100: loss = 73.293655395507812\n",
      "Epoch 110: loss = 58.813026428222656\n",
      "Epoch 120: loss = 48.763355255126953\n",
      "Epoch 130: loss = 41.731056213378906\n",
      "Epoch 140: loss = 36.775218963623047\n",
      "Epoch 150: loss = 33.261787414550781\n",
      "Epoch 160: loss = 30.758319854736328\n",
      "Epoch 170: loss = 28.967025756835938\n",
      "Epoch 180: loss = 27.680828094482422\n",
      "Epoch 190: loss = 26.754629135131836\n",
      "Epoch 200: loss = 26.086069107055664\n",
      "Epoch 210: loss = 25.602544784545898\n",
      "Epoch 220: loss = 25.252248764038086\n",
      "Epoch 230: loss = 24.998146057128906\n",
      "Epoch 240: loss = 24.813625335693359\n"
     ]
    }
   ],
   "source": [
    "num = 250\n",
    "for epoch in range(num):\n",
    "    y_pred = model(X)\n",
    "    \n",
    "    loss = nLoss(y_pred, Y)\n",
    "    loss.backward()\n",
    "    optimizer.step()\n",
    "    optimizer.zero_grad()\n",
    "\n",
    "    if epoch % 10 == 0:\n",
    "        print(f\"Epoch {epoch}: loss = {loss.item():.15f}\")"
   ]
  },
  {
   "cell_type": "code",
   "execution_count": 40,
   "metadata": {},
   "outputs": [
    {
     "data": {
      "image/png": "[encoded data removed]",
      "text/plain": [
       "<Figure size 432x288 with 1 Axes>"
      ]
     },
     "metadata": {
      "needs_background": "light"
     },
     "output_type": "display_data"
    }
   ],
   "source": [
    "x1 = x_np[:, 0]\n",
    "x2 = x_np[:, 1]\n",
    "x3 = x_np[:, 2]\n",
    "x_pred = np.column_stack((x1, x2, x3))\n",
    "y_pred = model(torch.from_numpy(x_pred.astype(np.float32))).detach().numpy()\n",
    "\n",
    "fig = plt.figure()\n",
    "ax = fig.add_subplot(111, projection='3d')\n",
    "ax.scatter(x1, x2, y_np, color='y', label='Actual')\n",
    "ax.scatter(x1, x2, y_pred, color='blue', label='Predicted')\n",
    "\n",
    "ax.set_xlabel('Feature 1')\n",
    "ax.set_ylabel('Feature 2')\n",
    "ax.set_zlabel('Dependent Variable')\n",
    "\n",
    "plt.legend()\n",
    "plt.show()"
   ]
  },
  {
   "cell_type": "markdown",
   "metadata": {},
   "source": [
    "# Logistic Regression by pytorch"
   ]
  },
  {
   "cell_type": "code",
   "execution_count": 41,
   "metadata": {},
   "outputs": [],
   "source": [
    "df = datasets.load_breast_cancer()\n",
    "X , Y = df.data , df.target"
   ]
  },
  {
   "cell_type": "code",
   "execution_count": 42,
   "metadata": {},
   "outputs": [
    {
     "data": {
      "text/plain": [
       "(569, 30)"
      ]
     },
     "execution_count": 42,
     "metadata": {},
     "output_type": "execute_result"
    }
   ],
   "source": [
    "NumData , NumFeatures = X.shape\n",
    "NumData , NumFeatures"
   ]
  },
  {
   "cell_type": "code",
   "execution_count": 43,
   "metadata": {},
   "outputs": [],
   "source": [
    "x_train , x_test , y_train , y_test = train_test_split(X , Y , test_size=0.2 , random_state=1000)"
   ]
  },
  {
   "cell_type": "code",
   "execution_count": 44,
   "metadata": {},
   "outputs": [],
   "source": [
    "scl = StandardScaler()\n",
    "\n",
    "x_train = scl.fit_transform(x_train)\n",
    "x_test  = scl.transform(x_test) "
   ]
  },
  {
   "cell_type": "code",
   "execution_count": 45,
   "metadata": {},
   "outputs": [
    {
     "data": {
      "text/plain": [
       "torch.Size([455])"
      ]
     },
     "execution_count": 45,
     "metadata": {},
     "output_type": "execute_result"
    }
   ],
   "source": [
    "x_train = torch.from_numpy(x_train.astype(np.float32))\n",
    "x_test = torch.from_numpy(x_test.astype(np.float32))\n",
    "y_train = torch.from_numpy(y_train.astype(np.float32))\n",
    "y_test = torch.from_numpy(y_test.astype(np.float32))\n",
    "y_train.shape"
   ]
  },
  {
   "cell_type": "code",
   "execution_count": 46,
   "metadata": {},
   "outputs": [],
   "source": [
    "y_train = y_train.view(y_train.shape[0] , 1)\n",
    "y_test = y_test.view(y_test.shape[0] , 1)"
   ]
  },
  {
   "cell_type": "code",
   "execution_count": 47,
   "metadata": {},
   "outputs": [],
   "source": [
    "alpha = 0.01\n",
    "loss  = nn.BCELoss()\n",
    "model = nn.Linear(in_features=NumFeatures , out_features=1)\n",
    "optim = torch.optim.SGD(model.parameters() , lr=alpha)"
   ]
  },
  {
   "cell_type": "code",
   "execution_count": 48,
   "metadata": {},
   "outputs": [],
   "source": [
    "def forward(x):\n",
    "    return torch.sigmoid(x)"
   ]
  },
  {
   "cell_type": "code",
   "execution_count": 49,
   "metadata": {},
   "outputs": [
    {
     "name": "stdout",
     "output_type": "stream",
     "text": [
      "0 .  Loss =  0.7775930166244507\n",
      "50 .  Loss =  0.3647938370704651\n",
      "100 .  Loss =  0.2705819606781006\n",
      "150 .  Loss =  0.2248850166797638\n",
      "200 .  Loss =  0.19692449271678925\n",
      "250 .  Loss =  0.17775791883468628\n",
      "300 .  Loss =  0.16369828581809998\n",
      "350 .  Loss =  0.15290217101573944\n",
      "400 .  Loss =  0.1443280577659607\n",
      "450 .  Loss =  0.13733728229999542\n",
      "500 .  Loss =  0.1315152794122696\n",
      "550 .  Loss =  0.12658114731311798\n",
      "600 .  Loss =  0.12233784794807434\n",
      "650 .  Loss =  0.11864310503005981\n",
      "700 .  Loss =  0.11539168655872345\n",
      "750 .  Loss =  0.1125040054321289\n",
      "800 .  Loss =  0.10991876572370529\n",
      "850 .  Loss =  0.10758792608976364\n",
      "900 .  Loss =  0.10547325760126114\n",
      "950 .  Loss =  0.10354407131671906\n",
      "1000 .  Loss =  0.10177523642778397\n",
      "1050 .  Loss =  0.10014611482620239\n",
      "1100 .  Loss =  0.09863957017660141\n",
      "1150 .  Loss =  0.09724116325378418\n"
     ]
    }
   ],
   "source": [
    "num = 1200\n",
    "\n",
    "for epoch in range(num):\n",
    "\n",
    "    yprd = forward(model(x_train))\n",
    "    ls = loss(yprd , y_train)\n",
    "    ls.backward()\n",
    "\n",
    "    optim.step()\n",
    "    optim.zero_grad()\n",
    "\n",
    "    if not epoch % 50:\n",
    "        print(epoch ,'. ' , \"Loss = \" , ls.item())"
   ]
  },
  {
   "cell_type": "code",
   "execution_count": 50,
   "metadata": {},
   "outputs": [
    {
     "name": "stdout",
     "output_type": "stream",
     "text": [
      "accuracy: 0.9474\n"
     ]
    }
   ],
   "source": [
    "with torch.no_grad():\n",
    "    y_pred = forward(model(x_test))\n",
    "    y_pred_round = y_pred.round()\n",
    "    prob = y_pred_round.eq(y_test).sum() / float(y_test.shape[0])\n",
    "    print(f'accuracy: {prob.item():.4f}')"
   ]
  }
 ],
 "metadata": {
  "kernelspec": {
   "display_name": "Python 3",
   "language": "python",
   "name": "python3"
  },
  "language_info": {
   "codemirror_mode": {
    "name": "ipython",
    "version": 3
   },
   "file_extension": ".py",
   "mimetype": "text/x-python",
   "name": "python",
   "nbconvert_exporter": "python",
   "pygments_lexer": "ipython3",
   "version": "3.10.0"
  },
  "orig_nbformat": 4
 },
 "nbformat": 4,
 "nbformat_minor": 2
}
